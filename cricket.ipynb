{
 "cells": [
  {
   "cell_type": "markdown",
   "id": "838ede6e",
   "metadata": {},
   "source": [
    "# Problem Statement 1\n",
    "To predict the right time to buy and sell a bet using Machine learning by analysing the odds in cricket line guru app."
   ]
  },
  {
   "cell_type": "code",
   "execution_count": 182,
   "id": "8f6860f9",
   "metadata": {},
   "outputs": [],
   "source": [
    "import requests\n",
    "import pandas as pd\n",
    "from sklearn.linear_model import LinearRegression\n",
    "from io import BytesIO\n",
    "from sklearn.model_selection import train_test_split\n",
    "from sklearn.metrics import mean_absolute_error\n",
    "from sklearn.metrics import accuracy_score"
   ]
  },
  {
   "cell_type": "code",
   "execution_count": 130,
   "id": "f7bcac47",
   "metadata": {
    "scrolled": true
   },
   "outputs": [
    {
     "name": "stdout",
     "output_type": "stream",
     "text": [
      "                                 id              sport_key    sport_title  \\\n",
      "0  6ac1e3f9a0ff2c1c7547ffd99b2da0e5  cricket_icc_world_cup  ICC World Cup   \n",
      "1  82db12188830f7b7539b81a89037dfdc  cricket_icc_world_cup  ICC World Cup   \n",
      "2  c53e8cf5a42d77c0e5b42ee3a55e1fd7  cricket_icc_world_cup  ICC World Cup   \n",
      "3  3b9d16ada93aa11886b80c33e3ab7b24  cricket_icc_world_cup  ICC World Cup   \n",
      "4  283dbac9e9c8b295a6670fcf71c44298  cricket_icc_world_cup  ICC World Cup   \n",
      "\n",
      "          commence_time    home_team     away_team  \\\n",
      "0  2023-10-29T08:30:00Z        India       England   \n",
      "1  2023-10-30T08:30:00Z  Afghanistan     Sri Lanka   \n",
      "2  2023-10-31T08:30:00Z     Pakistan    Bangladesh   \n",
      "3  2023-11-01T08:30:00Z  New Zealand  South Africa   \n",
      "4  2023-11-02T08:30:00Z        India     Sri Lanka   \n",
      "\n",
      "                                          bookmakers  \n",
      "0  [{'key': 'unibet_us', 'title': 'Unibet', 'last...  \n",
      "1  [{'key': 'unibet_us', 'title': 'Unibet', 'last...  \n",
      "2                                                 []  \n",
      "3  [{'key': 'unibet_us', 'title': 'Unibet', 'last...  \n",
      "4  [{'key': 'unibet_us', 'title': 'Unibet', 'last...  \n"
     ]
    }
   ],
   "source": [
    "\n",
    "# Fetch data from the API\n",
    "url = \"https://api.the-odds-api.com/v4/sports/cricket/odds/?apiKey=2ed531b5a3ac27ef436fffc877367472&regions=us&markets=h2h\"\n",
    "response = requests.get(url)\n",
    "data = response.json()\n",
    "\n",
    "# Convert the JSON data to a Pandas DataFrame\n",
    "df = pd.DataFrame(data)\n",
    "\n",
    "# Save the DataFrame to a CSV file\n",
    "df.to_csv('cricket_odds.csv', index=False)\n",
    "\n",
    "# Print the first 20 rows of the DataFrame\n",
    "print(df.head(20))\n"
   ]
  },
  {
   "cell_type": "code",
   "execution_count": 131,
   "id": "81f95f4c",
   "metadata": {
    "scrolled": true
   },
   "outputs": [
    {
     "data": {
      "text/plain": [
       "Index(['id', 'sport_key', 'sport_title', 'commence_time', 'home_team',\n",
       "       'away_team', 'bookmakers'],\n",
       "      dtype='object')"
      ]
     },
     "execution_count": 131,
     "metadata": {},
     "output_type": "execute_result"
    }
   ],
   "source": [
    "df.columns"
   ]
  },
  {
   "cell_type": "code",
   "execution_count": 132,
   "id": "027fd292",
   "metadata": {},
   "outputs": [],
   "source": [
    "del df['id']\n",
    "del df['commence_time']\n",
    "del df['sport_key'] \n",
    "del df['sport_title'] \n",
    "del df['bookmakers']"
   ]
  },
  {
   "cell_type": "code",
   "execution_count": 133,
   "id": "b404b2ce",
   "metadata": {},
   "outputs": [
    {
     "data": {
      "text/plain": [
       "Index(['home_team', 'away_team'], dtype='object')"
      ]
     },
     "execution_count": 133,
     "metadata": {},
     "output_type": "execute_result"
    }
   ],
   "source": [
    "df.columns"
   ]
  },
  {
   "cell_type": "code",
   "execution_count": 212,
   "id": "2d7cbf07",
   "metadata": {},
   "outputs": [],
   "source": [
    "df['home_price']=[1.29,1.48,2.7,1.75,1.5]\n",
    "df['away_price']=[3.55,2.65,2.47,1.49,2.9]\n",
    "df['home_outcome']=df['home_price'] < df['away_price']\n"
   ]
  },
  {
   "cell_type": "code",
   "execution_count": 213,
   "id": "b5ae47e5",
   "metadata": {},
   "outputs": [],
   "source": [
    "X_train, X_test, y_train, y_test = train_test_split(df[['home_price', 'away_price']], df['home_outcome'], test_size=0.25)\n"
   ]
  },
  {
   "cell_type": "code",
   "execution_count": 214,
   "id": "f96efffa",
   "metadata": {},
   "outputs": [],
   "source": [
    "# Create a linear regression model.\n",
    "model = LinearRegression()\n"
   ]
  },
  {
   "cell_type": "code",
   "execution_count": 215,
   "id": "fadb42fc",
   "metadata": {},
   "outputs": [
    {
     "data": {
      "text/html": [
       "<style>#sk-container-id-14 {color: black;}#sk-container-id-14 pre{padding: 0;}#sk-container-id-14 div.sk-toggleable {background-color: white;}#sk-container-id-14 label.sk-toggleable__label {cursor: pointer;display: block;width: 100%;margin-bottom: 0;padding: 0.3em;box-sizing: border-box;text-align: center;}#sk-container-id-14 label.sk-toggleable__label-arrow:before {content: \"▸\";float: left;margin-right: 0.25em;color: #696969;}#sk-container-id-14 label.sk-toggleable__label-arrow:hover:before {color: black;}#sk-container-id-14 div.sk-estimator:hover label.sk-toggleable__label-arrow:before {color: black;}#sk-container-id-14 div.sk-toggleable__content {max-height: 0;max-width: 0;overflow: hidden;text-align: left;background-color: #f0f8ff;}#sk-container-id-14 div.sk-toggleable__content pre {margin: 0.2em;color: black;border-radius: 0.25em;background-color: #f0f8ff;}#sk-container-id-14 input.sk-toggleable__control:checked~div.sk-toggleable__content {max-height: 200px;max-width: 100%;overflow: auto;}#sk-container-id-14 input.sk-toggleable__control:checked~label.sk-toggleable__label-arrow:before {content: \"▾\";}#sk-container-id-14 div.sk-estimator input.sk-toggleable__control:checked~label.sk-toggleable__label {background-color: #d4ebff;}#sk-container-id-14 div.sk-label input.sk-toggleable__control:checked~label.sk-toggleable__label {background-color: #d4ebff;}#sk-container-id-14 input.sk-hidden--visually {border: 0;clip: rect(1px 1px 1px 1px);clip: rect(1px, 1px, 1px, 1px);height: 1px;margin: -1px;overflow: hidden;padding: 0;position: absolute;width: 1px;}#sk-container-id-14 div.sk-estimator {font-family: monospace;background-color: #f0f8ff;border: 1px dotted black;border-radius: 0.25em;box-sizing: border-box;margin-bottom: 0.5em;}#sk-container-id-14 div.sk-estimator:hover {background-color: #d4ebff;}#sk-container-id-14 div.sk-parallel-item::after {content: \"\";width: 100%;border-bottom: 1px solid gray;flex-grow: 1;}#sk-container-id-14 div.sk-label:hover label.sk-toggleable__label {background-color: #d4ebff;}#sk-container-id-14 div.sk-serial::before {content: \"\";position: absolute;border-left: 1px solid gray;box-sizing: border-box;top: 0;bottom: 0;left: 50%;z-index: 0;}#sk-container-id-14 div.sk-serial {display: flex;flex-direction: column;align-items: center;background-color: white;padding-right: 0.2em;padding-left: 0.2em;position: relative;}#sk-container-id-14 div.sk-item {position: relative;z-index: 1;}#sk-container-id-14 div.sk-parallel {display: flex;align-items: stretch;justify-content: center;background-color: white;position: relative;}#sk-container-id-14 div.sk-item::before, #sk-container-id-14 div.sk-parallel-item::before {content: \"\";position: absolute;border-left: 1px solid gray;box-sizing: border-box;top: 0;bottom: 0;left: 50%;z-index: -1;}#sk-container-id-14 div.sk-parallel-item {display: flex;flex-direction: column;z-index: 1;position: relative;background-color: white;}#sk-container-id-14 div.sk-parallel-item:first-child::after {align-self: flex-end;width: 50%;}#sk-container-id-14 div.sk-parallel-item:last-child::after {align-self: flex-start;width: 50%;}#sk-container-id-14 div.sk-parallel-item:only-child::after {width: 0;}#sk-container-id-14 div.sk-dashed-wrapped {border: 1px dashed gray;margin: 0 0.4em 0.5em 0.4em;box-sizing: border-box;padding-bottom: 0.4em;background-color: white;}#sk-container-id-14 div.sk-label label {font-family: monospace;font-weight: bold;display: inline-block;line-height: 1.2em;}#sk-container-id-14 div.sk-label-container {text-align: center;}#sk-container-id-14 div.sk-container {/* jupyter's `normalize.less` sets `[hidden] { display: none; }` but bootstrap.min.css set `[hidden] { display: none !important; }` so we also need the `!important` here to be able to override the default hidden behavior on the sphinx rendered scikit-learn.org. See: https://github.com/scikit-learn/scikit-learn/issues/21755 */display: inline-block !important;position: relative;}#sk-container-id-14 div.sk-text-repr-fallback {display: none;}</style><div id=\"sk-container-id-14\" class=\"sk-top-container\"><div class=\"sk-text-repr-fallback\"><pre>LinearRegression()</pre><b>In a Jupyter environment, please rerun this cell to show the HTML representation or trust the notebook. <br />On GitHub, the HTML representation is unable to render, please try loading this page with nbviewer.org.</b></div><div class=\"sk-container\" hidden><div class=\"sk-item\"><div class=\"sk-estimator sk-toggleable\"><input class=\"sk-toggleable__control sk-hidden--visually\" id=\"sk-estimator-id-14\" type=\"checkbox\" checked><label for=\"sk-estimator-id-14\" class=\"sk-toggleable__label sk-toggleable__label-arrow\">LinearRegression</label><div class=\"sk-toggleable__content\"><pre>LinearRegression()</pre></div></div></div></div></div>"
      ],
      "text/plain": [
       "LinearRegression()"
      ]
     },
     "execution_count": 215,
     "metadata": {},
     "output_type": "execute_result"
    }
   ],
   "source": [
    "model.fit(X_train, y_train)\n"
   ]
  },
  {
   "cell_type": "code",
   "execution_count": 216,
   "id": "c649b264",
   "metadata": {},
   "outputs": [],
   "source": [
    "# Make predictions on the test data.\n",
    "y_pred = model.predict(X_test)"
   ]
  },
  {
   "cell_type": "code",
   "execution_count": 218,
   "id": "6f5e9d2e",
   "metadata": {},
   "outputs": [
    {
     "name": "stdout",
     "output_type": "stream",
     "text": [
      "Mean Absolute Error: 0.32855790470179846\n"
     ]
    }
   ],
   "source": [
    "# Evaluate the performance of the model.\n",
    "print('Mean Absolute Error:', mean_absolute_error(y_test, y_pred))\n"
   ]
  },
  {
   "cell_type": "markdown",
   "id": "cbf910c3",
   "metadata": {},
   "source": [
    "Name: Sendrela Gulzar\n",
    "\n",
    "Email: sendrelagulzar@gmail.com \n",
    "\n",
    "Mob no.: 8963913367 "
   ]
  },
  {
   "cell_type": "markdown",
   "id": "56455c4c",
   "metadata": {},
   "source": [
    "PS: Used an alternative cricket API source instead of Cricket Line Guru due to access issues. My decision was aimed at ensuring project continuity and was made after exhaustive efforts. Your understanding is appreciated."
   ]
  },
  {
   "cell_type": "code",
   "execution_count": null,
   "id": "340f6901",
   "metadata": {},
   "outputs": [],
   "source": []
  }
 ],
 "metadata": {
  "kernelspec": {
   "display_name": "Python 3 (ipykernel)",
   "language": "python",
   "name": "python3"
  },
  "language_info": {
   "codemirror_mode": {
    "name": "ipython",
    "version": 3
   },
   "file_extension": ".py",
   "mimetype": "text/x-python",
   "name": "python",
   "nbconvert_exporter": "python",
   "pygments_lexer": "ipython3",
   "version": "3.10.12"
  }
 },
 "nbformat": 4,
 "nbformat_minor": 5
}
